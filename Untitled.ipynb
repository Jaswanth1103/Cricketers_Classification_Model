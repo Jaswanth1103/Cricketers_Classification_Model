{
 "cells": [
  {
   "cell_type": "code",
   "execution_count": null,
   "id": "ec321931-f679-4af1-b343-bba51f6a1eb6",
   "metadata": {},
   "outputs": [],
   "source": []
  }
 ],
 "metadata": {
  "kernelspec": {
   "display_name": "",
   "name": ""
  },
  "language_info": {
   "name": ""
  }
 },
 "nbformat": 4,
 "nbformat_minor": 5
}
